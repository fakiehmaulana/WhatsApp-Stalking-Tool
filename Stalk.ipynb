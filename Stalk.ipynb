{
 "cells": [
  {
   "cell_type": "code",
   "execution_count": null,
   "metadata": {
    "collapsed": true
   },
   "outputs": [],
   "source": [
    "import pandas as pd\n",
    "import numpy as np\n",
    "import matplotlib.pyplot as plt\n",
    "import matplotlib\n",
    "matplotlib.style.use('ggplot')\n",
    "import seaborn as sns\n",
    "sns.set(style=\"ticks\")"
   ]
  },
  {
   "cell_type": "markdown",
   "metadata": {},
   "source": [
    "Complete filname, eg. 'example.txt'"
   ]
  },
  {
   "cell_type": "code",
   "execution_count": null,
   "metadata": {
    "collapsed": true
   },
   "outputs": [],
   "source": [
    "filename = 'Tsaonima.txt'\n",
    "chatname = filename.replace('.txt', '')"
   ]
  },
  {
   "cell_type": "markdown",
   "metadata": {},
   "source": [
    "# Part 0 : Import conversation history"
   ]
  },
  {
   "cell_type": "code",
   "execution_count": null,
   "metadata": {
    "collapsed": true
   },
   "outputs": [],
   "source": [
    "def preprocess(filename):\n",
    "    \n",
    "    # filename is the .txt conversation history after exporting from WhatsApp\n",
    "\n",
    "    df0 = pd.read_table(filename, \n",
    "                        header = None, \n",
    "                        names = ['line'])\n",
    "    # creating column 0 : datetime, column 1 : \n",
    "    df0 = df0['line'].str.split(': ',  expand = True, n = 2)\n",
    "    df0.columns = ['datetime', 'member', 'content']\n",
    "    \n",
    "    # Problem of multi-line message (when there is linebreak)\n",
    "    # They appear as 'datetime', with empty content and member \n",
    "    dtt_format = r'[0-9][0-9]\\/[0-9][0-9]\\/[0-9][0-9][0-9][0-9]\\ [0-9][0-9]\\:[0-9][0-9]\\:[0-9][0-9]'\n",
    "    # Select lines not starting with datetime format ie multi-line message\n",
    "    df0['datetime'] = df0.astype('str')\n",
    "    df0[~df0['datetime'].str.match(dtt_format)] = df0[\n",
    "            ~df0['datetime'].str.match(dtt_format)\n",
    "            ].assign(content = ' ' + df0.datetime,\n",
    "            datetime = None, member = None)\n",
    "    # make these message take the member, datetime as the message right above them\n",
    "    df0 = df0.fillna(method = 'pad') \n",
    "    # concatenate multi-line messages\n",
    "    df0 = df0.groupby(['datetime', 'member']).sum().reset_index()\n",
    "    \n",
    "    # Extract system messages \n",
    "    sys_msg = df0[\n",
    "                    df0['member'].str.contains(\"créé le groupe\")\n",
    "                    | df0['member'].str.contains(\n",
    "                            \"chiffrement de bout en bout\"\n",
    "                            )\n",
    "                    | df0['member'].str.contains(\"ajouté\")\n",
    "                    | df0['member'].str.contains(\"quitté\")\n",
    "                    | df0['member'].str.contains(\"retiré\")\n",
    "                    | df0['member'].str.contains(\"changé l'icône\")\n",
    "                    | df0['member'].str.contains(\"supprimé l'icône\")\n",
    "                    | df0['member'].str.contains(\"sujet\")\n",
    "                    | df0['member'].str.contains(\"est passé\")\n",
    "                    | df0['member'].str.contains(\"est devenu\")\n",
    "                    | df0['member'].str.contains(\n",
    "                            \"Vous êtes désormais administrateur\"\n",
    "                            )\n",
    "                ].reset_index()[['datetime', 'member']]\n",
    "    sys_msg.columns = ['datetime', 'content']\n",
    "    sys_msg['datetime'] = pd.to_datetime(sys_msg['datetime'], dayfirst = True)\n",
    "    sys_msg = sys_msg.sort_values('datetime', ascending = True).set_index('datetime')\n",
    "\n",
    "    # Remove system messages from DataFrame\n",
    "    df0 = df0[\n",
    "                ~ (\n",
    "                        df0['member'].str.contains(\"créé le groupe\")\n",
    "                        | df0['member'].str.contains(\"chiffrement\")\n",
    "                        | df0['member'].str.contains(\"ajouté\")\n",
    "                        | df0['member'].str.contains(\"quitté\")\n",
    "                        | df0['member'].str.contains(\"retiré\")\n",
    "                        | df0['member'].str.contains(\"changé l'icône\")\n",
    "                        | df0['member'].str.contains(\"supprimé l'icône\")\n",
    "                        | df0['member'].str.contains(\"sujet\")\n",
    "                        | df0['member'].str.contains(\"est passé\")\n",
    "                        | df0['member'].str.contains(\"est devenu\")\n",
    "                        | df0['member'].str.contains(\n",
    "                                \"Vous êtes désormais administrateur\"\n",
    "                                )\n",
    "                    )\n",
    "            ]\n",
    "    \n",
    "    # Create type column\n",
    "    df0 = df0.assign(type = 'text')\n",
    "    # TODO : exact match using < >\n",
    "    df0.loc[df0['content'].str.contains('vidéo absente')] = df0.loc[\n",
    "            df0['content'].str.contains('vidéo absente')\n",
    "            ].assign(type = 'video')\n",
    "    df0.loc[df0['content'].str.contains('image absente')] = df0.loc[\n",
    "            df0['content'].str.contains('image absente')\n",
    "            ].assign(type = 'image')\n",
    "    df0.loc[df0['content'].str.contains('audio omis')] = df0.loc[\n",
    "            df0['content'].str.contains('audio omis')\n",
    "            ].assign(type = 'audio')\n",
    "    df0.loc[df0['content'].str.contains('GIF retiré')] = df0.loc[\n",
    "            df0['content'].str.contains('GIF retiré')\n",
    "            ].assign(type = 'gif')\n",
    "    \n",
    "    # Set content for non text message as None\n",
    "    df0[df0.type != 'text'] = df0[df0.type != 'text'].assign(content = None)\n",
    "    \n",
    "    # Set 'datetime' column as index, with date format\n",
    "    df0['datetime'] = pd.to_datetime(df0['datetime'], dayfirst = True)\n",
    "    df0 = df0.sort_values('datetime', ascending = True).set_index('datetime')\n",
    "    \n",
    "    # Lettercount is the length of each content after withdrawal of blank spaces\n",
    "    df0['lettercount'] = df0['content'].str.replace(' ', '').str.len()\n",
    "    # A word is defined by a set of consecutive (no space) characters\n",
    "    df0['wordcount'] = df0['content'].str.split(' ').str.len()\n",
    "\n",
    "    return[df0, sys_msg]\n",
    "\n",
    "# if importing preprocessed .csv chat history from chatvisualizer.com\n",
    "def import_chatcsv(filename):\n",
    "    df = pd.read_csv(filename, \n",
    "                     header = 0,\n",
    "                     parse_dates = ['datetime'], \n",
    "                     dayfirst = True,\n",
    "                     index_col = 'datetime')\n",
    "    # index = datetime, \n",
    "    # cols : timestamp, member, type, wordcount, lettercount\n",
    "    return(df)"
   ]
  },
  {
   "cell_type": "code",
   "execution_count": null,
   "metadata": {},
   "outputs": [],
   "source": [
    "df, sys_msg = preprocess(filename)\n",
    "print(chatname, \"conversation history\",\n",
    "      \"\\nfrom\", df.index.min(), \"to\", df.index.max(), \n",
    "      \"\\nlasted\", df.index.max()-df.index.min())\n",
    "print(df.head(10))\n",
    "print(sys_msg)"
   ]
  },
  {
   "cell_type": "markdown",
   "metadata": {},
   "source": [
    "Display messages from one period, end_date is included."
   ]
  },
  {
   "cell_type": "code",
   "execution_count": null,
   "metadata": {},
   "outputs": [],
   "source": [
    "start_date = \"2017-02-21\"\n",
    "end_date = \"2017-02-28\"\n",
    "df[(df.index > pd.Timestamp(start_date))\n",
    "   & (df.index < pd.Timestamp(end_date) + pd.Timedelta('1 Days'))\n",
    "  ][['member', 'type', 'content']]"
   ]
  },
  {
   "cell_type": "markdown",
   "metadata": {},
   "source": [
    "# Part 1 : Wordcount and Lettercount"
   ]
  },
  {
   "cell_type": "markdown",
   "metadata": {},
   "source": [
    "## a : Total wordcound and lettercount per person"
   ]
  },
  {
   "cell_type": "code",
   "execution_count": null,
   "metadata": {},
   "outputs": [],
   "source": [
    "grouped = df.groupby('member')\n",
    "\n",
    "sizes = grouped[['member', 'wordcount']].sum().sort_values('wordcount')\n",
    "fig1, ax1 = plt.subplots()\n",
    "ax1.pie(sizes, autopct='%1.1f%%', labels = sizes.index, startangle=90)\n",
    "ax1.axis('equal') # Equal aspect ratio ensures that pie is drawn as a circle.\n",
    "ax1.set_title('Salut Fred wordcount')\n",
    "plt.show()\n",
    "\n",
    "sizes = grouped[['member', 'lettercount']].sum().sort_values('lettercount')\n",
    "fig1, ax1 = plt.subplots()\n",
    "ax1.pie(sizes, autopct='%1.1f%%', labels = sizes.index, startangle=90)\n",
    "ax1.axis('equal') # Equal aspect ratio ensures that pie is drawn as a circle.\n",
    "plt.title(\"Salut Fred lettercount\")\n",
    "plt.show()"
   ]
  },
  {
   "cell_type": "markdown",
   "metadata": {},
   "source": [
    "## b : Wordcount and lettercount per person by datetime"
   ]
  },
  {
   "cell_type": "code",
   "execution_count": null,
   "metadata": {},
   "outputs": [],
   "source": [
    "plt.figure()\n",
    "for key, grp in df.groupby(['member']):\n",
    "    #print(key) # name of member\n",
    "    #print(grp) # everything the member said\n",
    "    plt.plot(grp['wordcount'], label=key)\n",
    "plt.legend(loc='best')\n",
    "plt.title('Wordcount per member')    \n",
    "plt.show()\n",
    "\n",
    "plt.figure()\n",
    "for key, grp in df.groupby(['member']):\n",
    "    plt.plot(grp['lettercount'], label=key)\n",
    "plt.legend(loc='upper center', bbox_to_anchor=(0.5, -0.05),\n",
    "           fancybox=True, shadow=True, ncol=5)\n",
    "plt.title('Lettercount per member')    \n",
    "plt.show()\n"
   ]
  },
  {
   "cell_type": "markdown",
   "metadata": {},
   "source": [
    "## c : Wordcound, lettercount per day"
   ]
  },
  {
   "cell_type": "markdown",
   "metadata": {},
   "source": [
    "Switch between lettercount and wordcount."
   ]
  },
  {
   "cell_type": "code",
   "execution_count": null,
   "metadata": {},
   "outputs": [],
   "source": [
    "df2 = df.groupby(['member'])['lettercount'].resample('1D').sum().dropna(axis=0,\n",
    "                how='any').reset_index()\n",
    "# reset_index drops the multi-index\n",
    "plt.figure()\n",
    "for key, grp in df2.groupby(['member']):\n",
    "    plt.plot(grp['datetime'], grp['lettercount'], label = key,\n",
    "             linestyle = 'dashed', marker = 'o')\n",
    "#plt.legend(loc='best')\n",
    "plt.legend(loc='upper center', bbox_to_anchor=(0.5, -0.1),\n",
    "           fancybox=False, shadow=False, ncol=4)\n",
    "plt.title('Lettercount per day')\n",
    "plt.show()\n",
    "\n",
    "\n",
    "# One graph for each member\n",
    "for key, grp in df2.groupby(['member']):\n",
    "    plt.figure()\n",
    "    plt.plot(grp['datetime'], grp['lettercount'], label = key,\n",
    "             linestyle = 'dashed', marker = 'o')\n",
    "    plt.legend(loc = 'best')\n",
    "    plt.title(\"Lettercount of \"+ key)\n",
    "    plt.show()"
   ]
  },
  {
   "cell_type": "markdown",
   "metadata": {},
   "source": [
    "# Part 2 : Different types of messages"
   ]
  },
  {
   "cell_type": "code",
   "execution_count": null,
   "metadata": {},
   "outputs": [],
   "source": [
    "# Most active days\n",
    "print('Most active day :', df2.groupby(['datetime'])['datetime','lettercount'].sum().idxmax()) \n",
    "# by member\n",
    "print('\\nMost active day by member', df2.ix[list(df2.groupby(['member'])[['lettercount']].idxmax()['lettercount'])])\n",
    "# single member\n",
    "selected_member = \"Laurent Lin\"\n",
    "print('\\nMost active day for', selected_member,\n",
    "      df2.ix[df2[df2.member == selected_member]['lettercount'].idxmax()]['datetime'])\n",
    "# days were total number of messages > threshold"
   ]
  },
  {
   "cell_type": "code",
   "execution_count": null,
   "metadata": {},
   "outputs": [],
   "source": [
    "# Pie chart version\n",
    "sizes = df.groupby('type')[['type']].count().sort_values('type')\n",
    "sizes.columns = ['Count']\n",
    "plt.figure()\n",
    "plt.pie(sizes, autopct='%1.1f%%', labels = sizes.index, startangle=90)\n",
    "plt.axis('equal') # Equal aspect ratio ensures that pie is drawn as a circle.\n",
    "plt.title('Types of messages')\n",
    "plt.show()\n",
    "\n",
    "# Bar plot version\n",
    "def autolabel(rects):\n",
    "    \"\"\"\n",
    "    Attach a text label above each bar displaying its height\n",
    "    \n",
    "    Source : https://stackoverflow.com/questions/30228069/how-to-display-the-value-of-the-bar-on-each-bar-with-pyplot-barh\n",
    "    \"\"\"\n",
    "    for rect in rects:\n",
    "        height = rect.get_height()\n",
    "        plt.text(rect.get_x() + rect.get_width()/2., 1.05*height,\n",
    "                '%.2f' % height, # '%d' % int(height), if int precision only\n",
    "                ha='center', va='bottom')        \n",
    "plt.figure()\n",
    "barplot = plt.bar(range(len(sizes.index)), height = sizes['Count'], width = 0.35)\n",
    "plt.xticks(range(len(sizes.index)), sizes.index)\n",
    "plt.title('Messages sent on ' + chatname)\n",
    "plt.ylabel('Number of messages')\n",
    "autolabel(barplot)\n",
    "plt.show()"
   ]
  },
  {
   "cell_type": "code",
   "execution_count": null,
   "metadata": {},
   "outputs": [],
   "source": [
    "# plot by member\n",
    "df3 = df.groupby(['member','type'])[['type']].count() # by member\n",
    "df3.columns = ['Count']\n",
    "df3 = df3.reset_index()\n",
    "n_member = df3['member'].drop_duplicates().count() # number of members\n",
    "n_type = df3['type'].drop_duplicates().count() # number of types of messages\n",
    "f, axarr = plt.subplots(n_type, 1) # Initialize figure\n",
    "iterator = 0\n",
    "for type_key, type_grp in df3.groupby(['type']):\n",
    "    axarr[iterator].pie(\n",
    "            type_grp['Count'], \n",
    "            autopct='%1.1f%%', \n",
    "            labels = type_grp['member'])\n",
    "    axarr[iterator].axis('equal')\n",
    "    axarr[iterator].set_title(\"Proportion of \" + type_key + \" messages\",\n",
    "         fontsize = 12)\n",
    "    iterator = iterator + 1\n",
    "plt.show()"
   ]
  },
  {
   "cell_type": "code",
   "execution_count": null,
   "metadata": {},
   "outputs": [],
   "source": [
    "# Change into stacked bar plot\n",
    "right = df3.groupby(['type'])[['Count']].sum()\n",
    "right.columns = ['Type_count']\n",
    "right = right.reset_index()\n",
    "merged = pd.merge(df3, right, how = 'left', on = ['type'])\n",
    "merged = merged.assign(proportion = merged.Count/merged.Type_count\n",
    "                       )[['member', 'type', 'proportion']]\n",
    "merged = merged.pivot(index = 'type',\n",
    "                      columns = 'member', \n",
    "                      values = 'proportion')\n",
    "plt.figure()\n",
    "merged.plot(kind = 'bar', \n",
    "            stacked = True, \n",
    "            title = 'Proportion of messages types')\n",
    "#plt.legend(title = 'Member', loc = 'best')\n",
    "plt.legend(title = \"Member\", bbox_to_anchor=(1.05, 1), loc=2, borderaxespad=0.)\n",
    "plt.xlabel(\"Message type\")\n",
    "plt.ylabel(\"Proportion\")\n",
    "plt.show()"
   ]
  },
  {
   "cell_type": "code",
   "execution_count": null,
   "metadata": {},
   "outputs": [],
   "source": [
    "# Group by member\n",
    "# Pie chart version \n",
    "for member_key, member_grp in df3.groupby(['member']):\n",
    "    plt.figure()\n",
    "    plt.pie(member_grp['Count'], autopct='%1.1f%%', \n",
    "            labels = member_grp['type'])\n",
    "    plt.axis('equal')\n",
    "    plt.title(\"Messages from \" + member_key)\n",
    "    plt.show()"
   ]
  },
  {
   "cell_type": "code",
   "execution_count": null,
   "metadata": {},
   "outputs": [],
   "source": [
    "# Stacked bar plot version\n",
    "right = df3.groupby(['member'])[['Count']].sum()\n",
    "right.columns = ['Type_count']\n",
    "right = right.reset_index()\n",
    "merged = pd.merge(df3, right, how = 'left', on = ['member'])\n",
    "merged = merged.assign(proportion = merged.Count/merged.Type_count\n",
    "                       )[['member', 'type', 'proportion']]\n",
    "merged = merged.pivot(index = 'member',\n",
    "                      columns = 'type', \n",
    "                      values = 'proportion')\n",
    "merged.plot(kind = 'bar', \n",
    "            stacked = True, \n",
    "            title = 'Proportion of messages types')\n",
    "plt.legend(title = \"Type\", bbox_to_anchor=(1.05, 1), loc=2, borderaxespad=0.)\n",
    "plt.xlabel(\"Member\")\n",
    "plt.ylabel(\"Proportion\")\n",
    "plt.show()"
   ]
  },
  {
   "cell_type": "code",
   "execution_count": null,
   "metadata": {},
   "outputs": [],
   "source": [
    "# for only one member\n",
    "selected_member = \"Laurent Lin\"\n",
    "plt.figure()\n",
    "plt.pie(df3[df3.member == selected_member]['Count'], \n",
    "        autopct='%1.1f%%', \n",
    "        labels = df3[df3.member == selected_member]['type'])\n",
    "plt.axis('equal')\n",
    "plt.title(\"Messages from \" + selected_member)\n",
    "plt.show()"
   ]
  },
  {
   "cell_type": "markdown",
   "metadata": {},
   "source": [
    "# Part 3 : concerning average words per message"
   ]
  },
  {
   "cell_type": "code",
   "execution_count": null,
   "metadata": {},
   "outputs": [],
   "source": [
    "# Average words, messages in total\n",
    "word_bymember = grouped[['member', \n",
    "                           'wordcount']].sum(\n",
    "                           ).sort_values('wordcount')\n",
    "n_msg = df.groupby('type')[[\n",
    "        'type']].count().sort_values('type').loc['text']\n",
    "print(\"In total\", n_msg.iloc[0], \"messages\")\n",
    "print(\"Average number of words per message =\", \n",
    "      float(word_bymember.sum()/int(n_msg)))\n"
   ]
  },
  {
   "cell_type": "code",
   "execution_count": null,
   "metadata": {},
   "outputs": [],
   "source": [
    "# Stats of wordcount\n",
    "# Histogram\n",
    "for key, grp in df.groupby(['member']):\n",
    "    plt.figure()\n",
    "    grp[[\"wordcount\"]].hist(bins =100)\n",
    "    plt.title(key + \"\\'s wordcount repartition\")\n",
    "    plt.show()"
   ]
  },
  {
   "cell_type": "code",
   "execution_count": null,
   "metadata": {},
   "outputs": [],
   "source": [
    "# Boxplot\n",
    "plt.figure()\n",
    "sns.boxplot(x = 'member', y = 'wordcount', \n",
    "            data = df).set_title(\"Wordcount per message\")\n",
    "plt.xticks(rotation = 90)\n",
    "plt.show()"
   ]
  },
  {
   "cell_type": "code",
   "execution_count": null,
   "metadata": {},
   "outputs": [],
   "source": [
    "# Average word per message by member\n",
    "msg_bymember = df.groupby(['type',\n",
    "                           'member'\n",
    "                           ])[['type']].count().sort_values('type')\n",
    "msg_bymember.columns = ['msg_count']\n",
    "msg_bymember = msg_bymember.reset_index()\n",
    "msg_bymember = pd.merge(\n",
    "        word_bymember.reset_index(), \n",
    "        msg_bymember[msg_bymember.type == 'text'].drop('type', axis = 1),\n",
    "        how = 'left', on = ['member'])\n",
    "msg_bymember = msg_bymember.assign(\n",
    "        avg_word = msg_bymember.wordcount/msg_bymember.msg_count)\n",
    "\n",
    "\n",
    "# Barplot with autolabel\n",
    "plt.figure()\n",
    "barplot = plt.bar(range(len(msg_bymember.index)), \n",
    "                  height = msg_bymember['avg_word'], width = 0.35)\n",
    "plt.title(\"Average word per message\")\n",
    "plt.xlabel(\"\")\n",
    "plt.xticks(range(len(msg_bymember.index)), \n",
    "           msg_bymember.member,\n",
    "           rotation = 90)\n",
    "plt.ylabel(\"Average word per message\")\n",
    "autolabel(barplot)\n",
    "plt.show()"
   ]
  },
  {
   "cell_type": "code",
   "execution_count": null,
   "metadata": {},
   "outputs": [],
   "source": [
    "# Wordcount per day per member\n",
    "df.groupby(['member'])[['wordcount']].resample('1D').sum().reset_index()\n",
    "# Average word per message per day\n",
    "df4 = df.groupby(['member'])[['wordcount']].resample('1D').mean().reset_index()\n",
    "# Number of message per member per day\n",
    "df5 = df.groupby(['member'])[['wordcount']].resample('1D').count()\n",
    "df5.columns = [\"Count\"]\n",
    "df5 = df5.reset_index()\n",
    "# Plot as function of time\n",
    "for key, grp in df4.groupby(['member']):\n",
    "    plt.figure()\n",
    "    plt.plot(grp['datetime'], grp['wordcount'], label = key,\n",
    "             linestyle = ':', marker = '.')\n",
    "    plt.title(\"Average word per message from \" + key)\n",
    "    plt.show()"
   ]
  },
  {
   "cell_type": "code",
   "execution_count": null,
   "metadata": {},
   "outputs": [],
   "source": [
    "# Boxplot\n",
    "plt.figure()\n",
    "sns.boxplot(x = \"member\", y = \"wordcount\", data = df4, palette = sns.color_palette(\"Set2\")).set_title(\n",
    "        \"Average word per message per day\")\n",
    "plt.xticks(rotation = 90)\n",
    "plt.show()"
   ]
  },
  {
   "cell_type": "code",
   "execution_count": null,
   "metadata": {},
   "outputs": [],
   "source": [
    "# Boxplot with messages per day (day where the person has spoken)\n",
    "plt.figure()\n",
    "sns.boxplot(x = \"member\", y = \"Count\", data = df5)\n",
    "plt.title(\"Boxplot of number of messages per day\")\n",
    "plt.xticks(rotation = 90)\n",
    "plt.show()"
   ]
  },
  {
   "cell_type": "markdown",
   "metadata": {},
   "source": [
    "# Part 4 : Concerning time laps between messages (\"bide\")"
   ]
  },
  {
   "cell_type": "code",
   "execution_count": null,
   "metadata": {},
   "outputs": [],
   "source": [
    "# Sort to avoid negative bides\n",
    "df_sorted = df.reset_index().sort_values(['datetime'], ascending = True)\n",
    "\n",
    "shifted = df_sorted.shift(-1)[[\"datetime\", 'content', 'member', 'type']]\n",
    "shifted.columns = [\"shifted_datetime\", \"msg_postbide\",\n",
    "                   \"member_postbide\", 'type_postbide']\n",
    "shifted = pd.concat([df_sorted, shifted], axis = 1)\n",
    "shifted = shifted.assign(bide = shifted.shifted_datetime - shifted.datetime)\n",
    "shifted = shifted.assign(auto_debidage = \n",
    "                         (shifted.member == shifted.member_postbide))\n",
    "# auto_debidage : True if following message is from same user\n",
    "shifted = shifted.assign(s_bide = shifted.bide.astype('timedelta64[s]'))\n",
    "# search largest bides\n",
    "shifted.nlargest(10, 'bide')[\n",
    "        ['datetime', 'member', 'bide', 'content', \n",
    "         'member_postbide', 'msg_postbide', 'type_postbide', 'auto_debidage']]    \n"
   ]
  },
  {
   "cell_type": "code",
   "execution_count": null,
   "metadata": {},
   "outputs": [],
   "source": [
    "bide_min = pd.Timedelta('5 hours')\n",
    "# General information\n",
    "print(shifted['bide'].describe())\n",
    "# bide bigger larger than bide_min\n",
    "print(shifted[shifted.bide > bide_min].sort_values(['bide'], ascending = False))"
   ]
  },
  {
   "cell_type": "code",
   "execution_count": null,
   "metadata": {},
   "outputs": [],
   "source": [
    "# Plot bides larger than bide_min\n",
    "plt.figure()\n",
    "sns.boxplot(x = 'member', y = 's_bide', \n",
    "            data = shifted[shifted.bide > bide_min])\n",
    "plt.xticks(rotation = 90)\n",
    "plt.title('Boxplot of bides > ' + str(bide_min))\n",
    "plt.ylabel('bide in seconds')\n",
    "plt.show()"
   ]
  },
  {
   "cell_type": "code",
   "execution_count": null,
   "metadata": {},
   "outputs": [],
   "source": [
    "# Number of auto_rep\n",
    "# Consecutive messages = a_rep\n",
    "shifted2 = df_sorted.shift(1)[[\"datetime\", 'content', 'member', 'type']]\n",
    "shifted2.columns = [\n",
    "        \"shifted_datetime\", \n",
    "        \"msg_prebide\",\n",
    "        \"member_prebide\", \n",
    "        'type_prebide'\n",
    "        ]\n",
    "shifted2 = pd.concat([df_sorted, shifted2], axis = 1)\n",
    "shifted2 = shifted2.assign(\n",
    "        auto_responding = (shifted2.member == shifted2.member_prebide)\n",
    "        )\n",
    "shifted2['block'] = (\n",
    "        shifted2['auto_responding'] != shifted2['auto_responding'].shift(1)\n",
    "        ).astype(int).cumsum()\n",
    "shifted2['block_cumcount'] = shifted2[\n",
    "        ['auto_responding', 'block']\n",
    "        ].groupby('block').transform(lambda x: list(range(1, len(x) + 1)))\n",
    "shifted2 = shifted2.assign(\n",
    "        a_rep = shifted2.auto_responding * shifted2.block_cumcount\n",
    "        )   \n",
    "#shifted2[\n",
    "#        ['member', 'auto_responding', 'block', 'block_cumcount', 'a_rep']\n",
    "#        ].nlargest(50, 'a_rep')\n",
    "\n",
    "shifted2['a_rep_count'] = shifted2[\n",
    "        ['block', \n",
    "         'auto_responding']\n",
    "        ].groupby(\n",
    "        'block'\n",
    "        ).transform(\n",
    "                lambda x: len(x)\n",
    "                )\n",
    "# For a same auto responding block a_rep_count displays the same value\n",
    "# So we need to drop dupicates\n",
    "shifted2 = shifted2.query(\n",
    "        '(auto_responding == True)'\n",
    "        ).drop_duplicates(\n",
    "                subset = [\n",
    "                'member', 'auto_responding', \n",
    "                'block', 'a_rep_count'])\n",
    "\n",
    "shifted2 = shifted2.set_index(\n",
    "        keys = 'datetime'\n",
    "        ).groupby(\n",
    "                ['member']\n",
    "                )['a_rep_count'].resample('1D').sum().dropna(\n",
    "                        axis=0, \n",
    "                        how='any'\n",
    "                        ).reset_index()\n",
    "# plot\n",
    "plt.figure()\n",
    "for key, grp in shifted2.groupby(['member']):\n",
    "    plt.plot(grp['datetime'], grp['a_rep_count'], label = key,\n",
    "             linestyle = 'dashed', marker = 'o')\n",
    "plt.legend(loc='upper center', bbox_to_anchor=(0.5, -0.1),\n",
    "           fancybox=False, shadow=False, ncol=4)\n",
    "plt.title('Number of auto-responses per day')\n",
    "plt.xlabel('Time')\n",
    "plt.ylabel('Count')\n",
    "plt.show()\n",
    "# Boxplot\n",
    "plt.figure()\n",
    "sns.boxplot(x = 'member', y = 'a_rep_count', data = shifted2)\n",
    "plt.xticks(rotation = 90)\n",
    "plt.ylabel(\"Count\")\n",
    "plt.title('Number of auto-responses per day')\n",
    "plt.show()"
   ]
  },
  {
   "cell_type": "markdown",
   "metadata": {},
   "source": [
    "# Part 5 : lol"
   ]
  },
  {
   "cell_type": "code",
   "execution_count": null,
   "metadata": {},
   "outputs": [],
   "source": [
    "pd.Series(\n",
    "        ['1', 'lol', 'test', 'looool', \n",
    "           'je suis', 'logiciel','lgociel'\n",
    "           'mdrtr', 'lol loool', 'lol lol lol',\n",
    "           'looool loul lol', 'lllloooool', 'lolo',\n",
    "           'trolooolol', 'lololol', 'lllooolll',\n",
    "           'Lol']\n",
    "        ).str.findall(r'\\w*l*lo+o*l+\\w*')\n",
    "# Current formula is not case sensitive"
   ]
  },
  {
   "cell_type": "code",
   "execution_count": null,
   "metadata": {},
   "outputs": [],
   "source": [
    "df['content'] = df['content'].str.lower()\n",
    "df['lol'] = df['content'].str.findall(r'\\w*l*lo+o*l+\\w*').str.len()\n",
    "df['lol_form'] = df['content'].str.findall(r'\\w*l*lo+o*l+\\w*')\n",
    "\n",
    "df_lol = df.groupby(['member'])['lol'].resample('1D').sum().dropna(axis=0, \n",
    "          how='any').reset_index()\n",
    "\n",
    "plt.figure()\n",
    "for key, grp in df_lol.groupby(['member']):\n",
    "    plt.plot(grp['datetime'], grp['lol'], label = key)\n",
    "plt.legend(loc='upper center', bbox_to_anchor=(0.5, -0.1),\n",
    "           fancybox=False, shadow=False, ncol=4)\n",
    "plt.title('Lol per day per member')\n",
    "plt.show()\n",
    "\n",
    "df_lol2 = df['lol'].resample('1D').sum().dropna(axis=0, how='any').reset_index()\n",
    "df_lol2.describe()\n",
    "plt.figure()\n",
    "plt.plot(df_lol2['datetime'], df_lol2['lol'])\n",
    "plt.xlabel('Time')\n",
    "plt.ylabel('Count per day')\n",
    "plt.title('\"Lol\" per day in ' + chatname)\n",
    "plt.show()\n",
    "\n",
    "sizes = df.groupby('member')[['lol']].sum()\n",
    "sizes.columns = ['Lol percentage']\n",
    "sizes = sizes.sort_values('Lol percentage')\n",
    "plt.figure()\n",
    "plt.pie(sizes, autopct='%1.1f%%', labels = sizes.index, startangle=90)\n",
    "plt.axis('equal') # Equal aspect ratio ensures that pie is drawn as a circle.\n",
    "plt.title('Lol distribution')\n",
    "plt.show()\n",
    "\n",
    "plt.figure()\n",
    "barplot = plt.bar(range(len(sizes.index)), height = sizes['Lol percentage'], width = 0.35)\n",
    "plt.xticks(range(len(sizes.index)), sizes.index, rotation = 90)\n",
    "plt.title('Messages sent on ' + chatname)\n",
    "plt.xlabel('Number of \"Lol\" in each message')\n",
    "plt.ylabel('\"Lol\" distribution')\n",
    "autolabel(barplot)\n",
    "plt.show()"
   ]
  },
  {
   "cell_type": "code",
   "execution_count": null,
   "metadata": {},
   "outputs": [],
   "source": [
    "df['lol'].describe()\n",
    "df[df.lol > 0][['content', 'member', 'lol', 'lol_form']]"
   ]
  },
  {
   "cell_type": "markdown",
   "metadata": {},
   "source": [
    "# Part 6 : 😁"
   ]
  },
  {
   "cell_type": "code",
   "execution_count": null,
   "metadata": {
    "collapsed": true
   },
   "outputs": [],
   "source": [
    "def emoji_count(df):\n",
    "    import emojis\n",
    "    from collections import Counter\n",
    "    df = pd.DataFrame(df['content'], columns = ['content'])\n",
    "    content_sum = []\n",
    "    for msg in list(df.dropna(axis=0, how='any')['content'].str.split(' ')):\n",
    "        for word in msg:\n",
    "            content_sum += word\n",
    "    content_sum = Counter(content_sum) # Count of every letter/emoji/chinese caracter \n",
    "    emojis_list = emojis.generate_emojis()\n",
    "    # select only emojis :\n",
    "    for emoji in emojis_list:\n",
    "        if not emoji in content_sum :\n",
    "            emojis_list.remove(emoji)\n",
    "            # remove an emoji that was not encountered \n",
    "            # but there are still emojis with 0 appearance...\n",
    "    content_sum = {emoji : content_sum[emoji] for emoji in emojis_list}\n",
    "    emojis_list = pd.Series(content_sum, \n",
    "                            name = 'Count').sort_values(ascending = False)\n",
    "    emojis_list = pd.DataFrame(emojis_list).query('Count > 0')\n",
    "    return(emojis_list)"
   ]
  },
  {
   "cell_type": "code",
   "execution_count": null,
   "metadata": {},
   "outputs": [],
   "source": [
    "# print(emoji_count(df).head(10)) # top 10\n",
    "print('Total number of emojis =',emoji_count(df).sum().iloc[0]) # total number of emojis\n",
    "print('\\nMost used emojis are :',emoji_count(df)) # total number of emojis"
   ]
  },
  {
   "cell_type": "code",
   "execution_count": null,
   "metadata": {},
   "outputs": [],
   "source": [
    "selected_member = 'Laurent Lin'\n",
    "print('Emojis from', selected_member, ':\\n', emoji_count(df[df['member'] == selected_member]))"
   ]
  },
  {
   "cell_type": "markdown",
   "metadata": {},
   "source": [
    "Future releases :\n",
    "- Compare two conversations\n",
    "- Better colormap\n",
    "- xD & mdr "
   ]
  }
 ],
 "metadata": {
  "kernelspec": {
   "display_name": "Python 3",
   "language": "python",
   "name": "python3"
  },
  "language_info": {
   "codemirror_mode": {
    "name": "ipython",
    "version": 3
   },
   "file_extension": ".py",
   "mimetype": "text/x-python",
   "name": "python",
   "nbconvert_exporter": "python",
   "pygments_lexer": "ipython3",
   "version": "3.6.1"
  }
 },
 "nbformat": 4,
 "nbformat_minor": 2
}
